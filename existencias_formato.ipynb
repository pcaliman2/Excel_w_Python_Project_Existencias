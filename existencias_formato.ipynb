{
 "cells": [
  {
   "cell_type": "code",
   "execution_count": 1,
   "metadata": {},
   "outputs": [],
   "source": [
    "from openpyxl import load_workbook\n",
    "import win32com.client as win32\n",
    "from openpyxl.utils import get_column_letter   # solo para convertir números a letras\n",
    "import os \n"
   ]
  },
  {
   "cell_type": "code",
   "execution_count": 2,
   "metadata": {},
   "outputs": [],
   "source": [
    "def Archivo2Work():\n",
    "    directorio =  os.getcwd() + '\\Inventario'\n",
    "    archivos_excel = []\n",
    "    countador = 0\n",
    "    for archivo in os.listdir(directorio):\n",
    "        if archivo.endswith(\".xlsx\"):\n",
    "            archivos_excel.append(archivo)\n",
    "        ArchivoPAraWork =archivos_excel[0]\n",
    "        countador += 1\n",
    "    if (countador != 0):\n",
    "        return ArchivoPAraWork, directorio, True\n",
    "    return \"Nada\", directorio, False"
   ]
  },
  {
   "cell_type": "code",
   "execution_count": null,
   "metadata": {},
   "outputs": [],
   "source": [
    "def formto_Existenciaas(Archivoo):\n",
    "    #Archivoo='existenciasvalorizadas_b.xlsx'\n",
    "    # Cargar el archivo existente\n",
    "    wb = load_workbook(Archivoo)\n",
    "\n",
    "    # Seleccionar una hoja\n",
    "    ws = wb['EXISTENCIASVALORIZADAS']\n",
    "    # Quitar agrupaciones (outline) en todas las filas\n",
    "    for row in ws.row_dimensions.values():\n",
    "        row.outlineLevel = 0\n",
    "\n",
    "    # Guardar cambios\n",
    "    wb.save(Archivoo)\n",
    "    \n"
   ]
  },
  {
   "cell_type": "code",
   "execution_count": null,
   "metadata": {},
   "outputs": [],
   "source": [
    "def formto_Existenciaas2(Archivoo):\n",
    "\n",
    "    # Quitar agrupaciones (outline) en todas las columnas                                                                                                                                                                                            \n",
    "    for col in ws.column_dimensions.values():\n",
    "        col.outlineLevel = 0\n",
    "\n",
    "        # Descombinar un rango específico\n",
    "        ws.unmerge_cells(\"A1:K1\")\n",
    "        ws.unmerge_cells(\"A2:H2\")\n",
    "        ws.unmerge_cells(\"I2:k2\")\n",
    "        ws.unmerge_cells(\"A3:K3\")\n",
    "\n",
    "        # 1. Eliminar filas 1 a 3\n",
    "        ws.delete_rows(1, 3)   # (fila_inicial, cantidad)\n",
    "        # 2. Eliminar la columna K (columna 11)\n",
    "        ws.delete_cols(11)\n",
    "\n",
    "        # 3. (Opcional) No es necesario 'seleccionar' A1 para guardar\n",
    "        #    pero si quieres asegurarte de que A1 sea la celda activa:\n",
    "        ws.sheet_view.selection[0].activeCell = \"A1\"\n",
    "        ws.sheet_view.selection[0].sqref = \"A1\"\n",
    "\n",
    "        # --- Calcular filas dinámicas ---\n",
    "        fila_ini = 4\n",
    "        # Última fila usada (puede variar según tus datos)\n",
    "        ultima_fila = ws.max_row   \n",
    "\n",
    "        # Cambiar alto de todas las filas del rango\n",
    "        for fila in range(fila_ini, ultima_fila + 1):\n",
    "            ws.row_dimensions[fila].height = 15\n",
    "            ws.row_dimensions[fila].hidden = False  # Asegura que esté visible\n",
    "        # Guardar cambios\n",
    "        wb.save(Archivoo)\n",
    "\n",
    "        # Recorrer desde la última fila hacia arriba\n",
    "        for fila in range(ws.max_row, 0, -1):\n",
    "            celda_a = ws[f\"A{fila}\"].value\n",
    "            celda_b = ws[f\"B{fila}\"].value\n",
    "\n",
    "            # Si A o B está vacía, eliminar la fila\n",
    "            if celda_a is None or celda_b is None:\n",
    "                ws.delete_rows(fila)\n",
    "\n",
    "        # Guardar cambios\n",
    "        wb.save(Archivoo)\n",
    "                                                                                                                                                                                                                                                                                                                                                                                                 \n",
    "                                                                                                                                                                                                                                                                                                                                                                                                 "
   ]
  },
  {
   "cell_type": "code",
   "execution_count": 4,
   "metadata": {},
   "outputs": [
    {
     "name": "stdout",
     "output_type": "stream",
     "text": [
      "c:\\Proyecto_COPEC\\Excel_w_Python_Project_Existencias\\Inventario\\existenciasvalorizadas_20251005110315.xlsx\n"
     ]
    }
   ],
   "source": [
    "FilePAraWork,directorioop, estadoos = Archivo2Work()\n",
    "carpeta_old = os.path.join( directorioop,FilePAraWork)\n",
    "print(carpeta_old)"
   ]
  },
  {
   "cell_type": "markdown",
   "metadata": {},
   "source": [
    "A patir de Aqui con las librerias de Excel"
   ]
  },
  {
   "cell_type": "code",
   "execution_count": 5,
   "metadata": {},
   "outputs": [
    {
     "ename": "ValueError",
     "evalue": "Cell range A1:K1 is not merged",
     "output_type": "error",
     "traceback": [
      "\u001b[1;31m---------------------------------------------------------------------------\u001b[0m",
      "\u001b[1;31mValueError\u001b[0m                                Traceback (most recent call last)",
      "Cell \u001b[1;32mIn[5], line 1\u001b[0m\n\u001b[1;32m----> 1\u001b[0m \u001b[43mformto_Existenciaas\u001b[49m\u001b[43m(\u001b[49m\u001b[43mcarpeta_old\u001b[49m\u001b[43m)\u001b[49m\n",
      "Cell \u001b[1;32mIn[3], line 17\u001b[0m, in \u001b[0;36mformto_Existenciaas\u001b[1;34m(Archivoo)\u001b[0m\n\u001b[0;32m     14\u001b[0m col\u001b[38;5;241m.\u001b[39moutlineLevel \u001b[38;5;241m=\u001b[39m \u001b[38;5;241m0\u001b[39m\n\u001b[0;32m     16\u001b[0m \u001b[38;5;66;03m# Descombinar un rango específico\u001b[39;00m\n\u001b[1;32m---> 17\u001b[0m \u001b[43mws\u001b[49m\u001b[38;5;241;43m.\u001b[39;49m\u001b[43munmerge_cells\u001b[49m\u001b[43m(\u001b[49m\u001b[38;5;124;43m\"\u001b[39;49m\u001b[38;5;124;43mA1:K1\u001b[39;49m\u001b[38;5;124;43m\"\u001b[39;49m\u001b[43m)\u001b[49m\n\u001b[0;32m     18\u001b[0m ws\u001b[38;5;241m.\u001b[39munmerge_cells(\u001b[38;5;124m\"\u001b[39m\u001b[38;5;124mA2:H2\u001b[39m\u001b[38;5;124m\"\u001b[39m)\n\u001b[0;32m     19\u001b[0m ws\u001b[38;5;241m.\u001b[39munmerge_cells(\u001b[38;5;124m\"\u001b[39m\u001b[38;5;124mI2:k2\u001b[39m\u001b[38;5;124m\"\u001b[39m)\n",
      "File \u001b[1;32mc:\\Users\\Pedro Caliman\\AppData\\Local\\Programs\\Python\\Python310\\lib\\site-packages\\openpyxl\\worksheet\\worksheet.py:631\u001b[0m, in \u001b[0;36mWorksheet.unmerge_cells\u001b[1;34m(self, range_string, start_row, start_column, end_row, end_column)\u001b[0m\n\u001b[0;32m    627\u001b[0m cr \u001b[38;5;241m=\u001b[39m CellRange(range_string\u001b[38;5;241m=\u001b[39mrange_string, min_col\u001b[38;5;241m=\u001b[39mstart_column, min_row\u001b[38;5;241m=\u001b[39mstart_row,\n\u001b[0;32m    628\u001b[0m               max_col\u001b[38;5;241m=\u001b[39mend_column, max_row\u001b[38;5;241m=\u001b[39mend_row)\n\u001b[0;32m    630\u001b[0m \u001b[38;5;28;01mif\u001b[39;00m cr\u001b[38;5;241m.\u001b[39mcoord \u001b[38;5;129;01mnot\u001b[39;00m \u001b[38;5;129;01min\u001b[39;00m \u001b[38;5;28mself\u001b[39m\u001b[38;5;241m.\u001b[39mmerged_cells:\n\u001b[1;32m--> 631\u001b[0m     \u001b[38;5;28;01mraise\u001b[39;00m \u001b[38;5;167;01mValueError\u001b[39;00m(\u001b[38;5;124m\"\u001b[39m\u001b[38;5;124mCell range \u001b[39m\u001b[38;5;132;01m{0}\u001b[39;00m\u001b[38;5;124m is not merged\u001b[39m\u001b[38;5;124m\"\u001b[39m\u001b[38;5;241m.\u001b[39mformat(cr\u001b[38;5;241m.\u001b[39mcoord))\n\u001b[0;32m    633\u001b[0m \u001b[38;5;28mself\u001b[39m\u001b[38;5;241m.\u001b[39mmerged_cells\u001b[38;5;241m.\u001b[39mremove(cr)\n\u001b[0;32m    635\u001b[0m cells \u001b[38;5;241m=\u001b[39m cr\u001b[38;5;241m.\u001b[39mcells\n",
      "\u001b[1;31mValueError\u001b[0m: Cell range A1:K1 is not merged"
     ]
    }
   ],
   "source": [
    "formto_Existenciaas(carpeta_old)\n"
   ]
  }
 ],
 "metadata": {
  "kernelspec": {
   "display_name": "Python 3",
   "language": "python",
   "name": "python3"
  },
  "language_info": {
   "codemirror_mode": {
    "name": "ipython",
    "version": 3
   },
   "file_extension": ".py",
   "mimetype": "text/x-python",
   "name": "python",
   "nbconvert_exporter": "python",
   "pygments_lexer": "ipython3",
   "version": "3.10.2"
  }
 },
 "nbformat": 4,
 "nbformat_minor": 2
}
