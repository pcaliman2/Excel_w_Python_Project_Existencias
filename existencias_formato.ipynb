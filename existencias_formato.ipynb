{
 "cells": [
  {
   "cell_type": "code",
   "execution_count": 2,
   "metadata": {},
   "outputs": [],
   "source": [
    "from openpyxl import load_workbook\n",
    "import win32com.client as win32\n",
    "from openpyxl.utils import get_column_letter   # solo para convertir números a letras\n",
    "import os \n"
   ]
  },
  {
   "cell_type": "code",
   "execution_count": 3,
   "metadata": {},
   "outputs": [],
   "source": [
    "def Archivo2Work():\n",
    "    directorio =  os.getcwd() + '\\Inventario'\n",
    "    archivos_excel = []\n",
    "    countador = 0\n",
    "    for archivo in os.listdir(directorio):\n",
    "        if archivo.endswith(\".xlsx\") and archivo.startswith(\"exist\"):\n",
    "            archivos_excel.append(archivo)\n",
    "            ArchivoPAraWork =archivos_excel[countador]\n",
    "        countador += 1\n",
    "    if (countador != 0):\n",
    "        return ArchivoPAraWork, directorio, True\n",
    "    return \"Nada\", directorio, False"
   ]
  },
  {
   "cell_type": "code",
   "execution_count": 4,
   "metadata": {},
   "outputs": [],
   "source": [
    "def formto_Existenciaas2(Archivoo):\n",
    "    wb = load_workbook(Archivoo)\n",
    "    ws = wb['EXISTENCIASVALORIZADAS']\n",
    "    # Quitar agrupaciones (outline) en todas las columnas                                                                                                                                                                                            \n",
    "\n",
    "    # Descombinar un rango específico\n",
    "    ws.unmerge_cells(\"A1:K1\")\n",
    "    ws.unmerge_cells(\"A2:H2\")\n",
    "    ws.unmerge_cells(\"I2:k2\")\n",
    "    ws.unmerge_cells(\"A3:K3\")\n",
    "\n",
    "    # 1. Eliminar filas 1 a 3\n",
    "    ws.delete_rows(1, 3)   # (fila_inicial, cantidad)\n",
    "    # 2. Eliminar la columna K (columna 11)\n",
    "    ws.delete_cols(11)\n",
    "\n",
    "    # Guardar cambios\n",
    "    wb.save(Archivoo)\n",
    "                                                                                                                                                                                                                                                                                                                                                                                                 \n",
    "                                                                                                                                                                                                                                                                                                                                                                                                 "
   ]
  },
  {
   "cell_type": "code",
   "execution_count": 5,
   "metadata": {},
   "outputs": [],
   "source": [
    "def formto_Existenciaas3(Archivoo):\n",
    "    wb = load_workbook(Archivoo)\n",
    "    ws = wb['EXISTENCIASVALORIZADAS']\n",
    "\n",
    "    for row in ws.row_dimensions.values():\n",
    "        row.outlineLevel = 0\n",
    "\n",
    "\n",
    "    # Quitar agrupaciones (outline) en todas las columnas                                                                                                                                                                                            \n",
    "    for col in ws.column_dimensions.values():\n",
    "        col.outlineLevel = 0\n",
    "\n",
    "        # 3. (Opcional) No es necesario 'seleccionar' A1 para guardar\n",
    "        #    pero si quieres asegurarte de que A1 sea la celda activa:\n",
    "        ws.sheet_view.selection[0].activeCell = \"A1\"\n",
    "        ws.sheet_view.selection[0].sqref = \"A1\"\n",
    "\n",
    "        # --- Calcular filas dinámicas ---\n",
    "        fila_ini = 4\n",
    "        # Última fila usada (puede variar según tus datos)\n",
    "        ultima_fila = ws.max_row   \n",
    "\n",
    "        # Cambiar alto de todas las filas del rango\n",
    "        for fila in range(fila_ini, ultima_fila + 1):\n",
    "            ws.row_dimensions[fila].height = 15\n",
    "            ws.row_dimensions[fila].hidden = False  # Asegura que esté visible\n",
    "        # Guardar cambios\n",
    "        wb.save(Archivoo)\n",
    "\n",
    "        # Recorrer desde la última fila hacia arriba\n",
    "        for fila in range(ws.max_row, 0, -1):\n",
    "            celda_a = ws[f\"A{fila}\"].value\n",
    "            celda_b = ws[f\"B{fila}\"].value\n",
    "\n",
    "            # Si A o B está vacía, eliminar la fila\n",
    "            if celda_a is None or celda_b is None:\n",
    "                ws.delete_rows(fila)\n",
    "\n",
    "        # Guardar cambios\n",
    "        wb.save(Archivoo)"
   ]
  },
  {
   "cell_type": "code",
   "execution_count": 6,
   "metadata": {},
   "outputs": [
    {
     "name": "stdout",
     "output_type": "stream",
     "text": [
      "c:\\Proyecto_COPEC\\Excel_w_Python_Project_Existencias\\Inventario\\existenciasvalorizadas_20251009094925.xlsx\n"
     ]
    }
   ],
   "source": [
    "FilePAraWork,directorioop, estadoos = Archivo2Work()\n",
    "carpeta_old = os.path.join( directorioop,FilePAraWork)\n",
    "print(carpeta_old)"
   ]
  },
  {
   "cell_type": "markdown",
   "metadata": {},
   "source": [
    "A patir de Aqui con las librerias de Excel"
   ]
  },
  {
   "cell_type": "code",
   "execution_count": 7,
   "metadata": {},
   "outputs": [],
   "source": [
    "#formto_Existenciaas(carpeta_old)\n",
    "formto_Existenciaas2(carpeta_old)\n",
    "\n"
   ]
  },
  {
   "cell_type": "code",
   "execution_count": 8,
   "metadata": {},
   "outputs": [],
   "source": [
    "formto_Existenciaas3(carpeta_old)"
   ]
  },
  {
   "cell_type": "markdown",
   "metadata": {},
   "source": [
    "Envio de Correo"
   ]
  },
  {
   "cell_type": "code",
   "execution_count": 15,
   "metadata": {},
   "outputs": [],
   "source": [
    "import smtplib, os\n",
    "from email.mime.multipart import MIMEMultipart\n",
    "from email.mime.text import MIMEText\n",
    "from email.mime.base import MIMEBase\n",
    "from email import encoders\n",
    "\n",
    "def enviar_correo(asunto, Texto_Enciado, destinatario, archivos=None, cc=None, bcc=None):\n",
    "    remitente = \"pcaliman@gmail.com\"\n",
    "    clave = \"glhz qhos bbww sgyc\"\n",
    "    servidor_smtp = \"smtp.gmail.com\"\n",
    "    puerto = 587\n",
    "\n",
    "    # Normalizar destinatarios a listas\n",
    "    def _tolist(x):\n",
    "        if not x:\n",
    "            return []\n",
    "        return x if isinstance(x, (list, tuple, set)) else [x]\n",
    "\n",
    "    to_list  = _tolist(destinatario)\n",
    "    cc_list  = _tolist(cc)\n",
    "    bcc_list = _tolist(bcc)\n",
    "\n",
    "    # Cabeceras (To/CC visibles). BCC nunca va en cabeceras.\n",
    "    mensaje = MIMEMultipart()\n",
    "    mensaje[\"From\"] = remitente\n",
    "    mensaje[\"To\"] = \", \".join(to_list)\n",
    "    if cc_list:\n",
    "        mensaje[\"Cc\"] = \", \".join(cc_list)\n",
    "    mensaje[\"Subject\"] = asunto\n",
    "    mensaje.attach(MIMEText(Texto_Enciado, \"html\"))\n",
    "\n",
    "    # Adjuntos (acepta str o lista). Verifica que sea archivo.\n",
    "    if archivos:\n",
    "        if isinstance(archivos, str):\n",
    "            archivos = [archivos]\n",
    "        for ruta in archivos:\n",
    "            if os.path.isfile(ruta):\n",
    "                with open(ruta, \"rb\") as f:\n",
    "                    parte = MIMEBase(\"application\", \"octet-stream\")\n",
    "                    parte.set_payload(f.read())\n",
    "                encoders.encode_base64(parte)\n",
    "                parte.add_header(\"Content-Disposition\", f\"attachment; filename={os.path.basename(ruta)}\")\n",
    "                mensaje.attach(parte)\n",
    "            else:\n",
    "                print(f\"⚠️ No es un archivo válido (o no existe): {ruta}\")\n",
    "\n",
    "    # Lista real de envío para SMTP = To + CC + BCC\n",
    "    all_rcpts = list(set(to_list + cc_list + bcc_list))\n",
    "\n",
    "    try:\n",
    "        with smtplib.SMTP(servidor_smtp, puerto) as servidor:\n",
    "            servidor.starttls()\n",
    "            servidor.login(remitente, clave)\n",
    "            servidor.sendmail(remitente, all_rcpts, mensaje.as_string())\n",
    "        print(\"✅ Correo enviado correctamente.\")\n",
    "    except Exception as e:\n",
    "        print(\"❌ Error al enviar correo:\", e)\n"
   ]
  },
  {
   "cell_type": "code",
   "execution_count": 9,
   "metadata": {},
   "outputs": [
    {
     "name": "stdout",
     "output_type": "stream",
     "text": [
      "c:\\Proyecto_COPEC\\Excel_w_Python_Project_Existencias\\Inventario\\existenciasvalorizadas_20251009094925.xlsx\n"
     ]
    }
   ],
   "source": [
    "print(carpeta_old)\n"
   ]
  },
  {
   "cell_type": "code",
   "execution_count": 16,
   "metadata": {},
   "outputs": [
    {
     "name": "stdout",
     "output_type": "stream",
     "text": [
      "✅ Correo enviado correctamente.\n"
     ]
    }
   ],
   "source": [
    "enviar_correo(\n",
    "    asunto=\"Existencias Valorizadas\",\n",
    "    Texto_Enciado=\"<h3>Adjunto el reporte de Existencias Valorizadas</h3>\",\n",
    "    destinatario=[\"pcaliman@hotmail.com\", \"20110@escopec.cl\"],\n",
    "    archivos=[carpeta_old]\n",
    ")\n"
   ]
  },
  {
   "cell_type": "code",
   "execution_count": null,
   "metadata": {},
   "outputs": [],
   "source": []
  }
 ],
 "metadata": {
  "kernelspec": {
   "display_name": "Python 3",
   "language": "python",
   "name": "python3"
  },
  "language_info": {
   "codemirror_mode": {
    "name": "ipython",
    "version": 3
   },
   "file_extension": ".py",
   "mimetype": "text/x-python",
   "name": "python",
   "nbconvert_exporter": "python",
   "pygments_lexer": "ipython3",
   "version": "3.10.2"
  }
 },
 "nbformat": 4,
 "nbformat_minor": 2
}
