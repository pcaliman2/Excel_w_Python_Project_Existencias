{
 "cells": [
  {
   "cell_type": "code",
   "execution_count": 73,
   "metadata": {},
   "outputs": [],
   "source": [
    "from openpyxl import load_workbook\n",
    "import win32com.client as win32\n",
    "from openpyxl.utils import get_column_letter   # solo para convertir números a letras\n",
    "import os \n"
   ]
  },
  {
   "cell_type": "code",
   "execution_count": null,
   "metadata": {},
   "outputs": [],
   "source": [
    "def Archivo2Work():\n",
    "    directorio =  os.getcwd() + '\\Inventario'\n",
    "    archivos_excel = []\n",
    "    countador = 0\n",
    "    for archivo in os.listdir(directorio):\n",
    "        if archivo.endswith(\".xlsx\") and archivo.startswith(\"exist\"):\n",
    "            archivos_excel.append(archivo)\n",
    "            ArchivoPAraWork =archivos_excel[countador]\n",
    "        countador += 1\n",
    "    if (countador != 0):\n",
    "        return ArchivoPAraWork, directorio, True\n",
    "    return \"Nada\", directorio, False"
   ]
  },
  {
   "cell_type": "code",
   "execution_count": 75,
   "metadata": {},
   "outputs": [],
   "source": [
    "def formto_Existenciaas2(Archivoo):\n",
    "    wb = load_workbook(Archivoo)\n",
    "    ws = wb['EXISTENCIASVALORIZADAS']\n",
    "    # Quitar agrupaciones (outline) en todas las columnas                                                                                                                                                                                            \n",
    "\n",
    "    # Descombinar un rango específico\n",
    "    ws.unmerge_cells(\"A1:K1\")\n",
    "    ws.unmerge_cells(\"A2:H2\")\n",
    "    ws.unmerge_cells(\"I2:k2\")\n",
    "    ws.unmerge_cells(\"A3:K3\")\n",
    "\n",
    "    # 1. Eliminar filas 1 a 3\n",
    "    ws.delete_rows(1, 3)   # (fila_inicial, cantidad)\n",
    "    # 2. Eliminar la columna K (columna 11)\n",
    "    ws.delete_cols(11)\n",
    "\n",
    "    # Guardar cambios\n",
    "    wb.save(Archivoo)\n",
    "                                                                                                                                                                                                                                                                                                                                                                                                 \n",
    "                                                                                                                                                                                                                                                                                                                                                                                                 "
   ]
  },
  {
   "cell_type": "code",
   "execution_count": 76,
   "metadata": {},
   "outputs": [],
   "source": [
    "def formto_Existenciaas3(Archivoo):\n",
    "    wb = load_workbook(Archivoo)\n",
    "    ws = wb['EXISTENCIASVALORIZADAS']\n",
    "    # Quitar agrupaciones (outline) en todas las columnas                                                                                                                                                                                            \n",
    "    for col in ws.column_dimensions.values():\n",
    "        col.outlineLevel = 0\n",
    "\n",
    "        # 3. (Opcional) No es necesario 'seleccionar' A1 para guardar\n",
    "        #    pero si quieres asegurarte de que A1 sea la celda activa:\n",
    "        ws.sheet_view.selection[0].activeCell = \"A1\"\n",
    "        ws.sheet_view.selection[0].sqref = \"A1\"\n",
    "\n",
    "        # --- Calcular filas dinámicas ---\n",
    "        fila_ini = 4\n",
    "        # Última fila usada (puede variar según tus datos)\n",
    "        ultima_fila = ws.max_row   \n",
    "\n",
    "        # Cambiar alto de todas las filas del rango\n",
    "        for fila in range(fila_ini, ultima_fila + 1):\n",
    "            ws.row_dimensions[fila].height = 15\n",
    "            ws.row_dimensions[fila].hidden = False  # Asegura que esté visible\n",
    "        # Guardar cambios\n",
    "        wb.save(Archivoo)\n",
    "\n",
    "        # Recorrer desde la última fila hacia arriba\n",
    "        for fila in range(ws.max_row, 0, -1):\n",
    "            celda_a = ws[f\"A{fila}\"].value\n",
    "            celda_b = ws[f\"B{fila}\"].value\n",
    "\n",
    "            # Si A o B está vacía, eliminar la fila\n",
    "            if celda_a is None or celda_b is None:\n",
    "                ws.delete_rows(fila)\n",
    "\n",
    "        # Guardar cambios\n",
    "        wb.save(Archivoo)"
   ]
  },
  {
   "cell_type": "code",
   "execution_count": 77,
   "metadata": {},
   "outputs": [
    {
     "ename": "AttributeError",
     "evalue": "'str' object has no attribute 'startwithswith'",
     "output_type": "error",
     "traceback": [
      "\u001b[1;31m---------------------------------------------------------------------------\u001b[0m",
      "\u001b[1;31mAttributeError\u001b[0m                            Traceback (most recent call last)",
      "Cell \u001b[1;32mIn[77], line 1\u001b[0m\n\u001b[1;32m----> 1\u001b[0m FilePAraWork,directorioop, estadoos \u001b[38;5;241m=\u001b[39m \u001b[43mArchivo2Work\u001b[49m\u001b[43m(\u001b[49m\u001b[43m)\u001b[49m\n\u001b[0;32m      2\u001b[0m carpeta_old \u001b[38;5;241m=\u001b[39m os\u001b[38;5;241m.\u001b[39mpath\u001b[38;5;241m.\u001b[39mjoin( directorioop,FilePAraWork)\n\u001b[0;32m      3\u001b[0m \u001b[38;5;28mprint\u001b[39m(carpeta_old)\n",
      "Cell \u001b[1;32mIn[74], line 6\u001b[0m, in \u001b[0;36mArchivo2Work\u001b[1;34m()\u001b[0m\n\u001b[0;32m      4\u001b[0m countador \u001b[38;5;241m=\u001b[39m \u001b[38;5;241m0\u001b[39m\n\u001b[0;32m      5\u001b[0m \u001b[38;5;28;01mfor\u001b[39;00m archivo \u001b[38;5;129;01min\u001b[39;00m os\u001b[38;5;241m.\u001b[39mlistdir(directorio):\n\u001b[1;32m----> 6\u001b[0m     \u001b[38;5;28;01mif\u001b[39;00m archivo\u001b[38;5;241m.\u001b[39mendswith(\u001b[38;5;124m\"\u001b[39m\u001b[38;5;124m.xlsx\u001b[39m\u001b[38;5;124m\"\u001b[39m) \u001b[38;5;129;01mand\u001b[39;00m \u001b[43marchivo\u001b[49m\u001b[38;5;241;43m.\u001b[39;49m\u001b[43mstartwithswith\u001b[49m(\u001b[38;5;124m\"\u001b[39m\u001b[38;5;124mexist\u001b[39m\u001b[38;5;124m\"\u001b[39m):\n\u001b[0;32m      7\u001b[0m         archivos_excel\u001b[38;5;241m.\u001b[39mappend(archivo)\n\u001b[0;32m      8\u001b[0m         ArchivoPAraWork \u001b[38;5;241m=\u001b[39marchivos_excel[countador]\n",
      "\u001b[1;31mAttributeError\u001b[0m: 'str' object has no attribute 'startwithswith'"
     ]
    }
   ],
   "source": [
    "FilePAraWork,directorioop, estadoos = Archivo2Work()\n",
    "carpeta_old = os.path.join( directorioop,FilePAraWork)\n",
    "print(carpeta_old)"
   ]
  },
  {
   "cell_type": "markdown",
   "metadata": {},
   "source": [
    "A patir de Aqui con las librerias de Excel"
   ]
  },
  {
   "cell_type": "code",
   "execution_count": null,
   "metadata": {},
   "outputs": [],
   "source": [
    "#formto_Existenciaas(carpeta_old)\n",
    "formto_Existenciaas2(carpeta_old)\n",
    "\n"
   ]
  },
  {
   "cell_type": "code",
   "execution_count": null,
   "metadata": {},
   "outputs": [],
   "source": [
    "formto_Existenciaas3(carpeta_old)"
   ]
  }
 ],
 "metadata": {
  "kernelspec": {
   "display_name": "Python 3",
   "language": "python",
   "name": "python3"
  },
  "language_info": {
   "codemirror_mode": {
    "name": "ipython",
    "version": 3
   },
   "file_extension": ".py",
   "mimetype": "text/x-python",
   "name": "python",
   "nbconvert_exporter": "python",
   "pygments_lexer": "ipython3",
   "version": "3.10.2"
  }
 },
 "nbformat": 4,
 "nbformat_minor": 2
}
