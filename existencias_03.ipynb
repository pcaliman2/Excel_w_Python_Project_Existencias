{
 "cells": [
  {
   "cell_type": "code",
   "execution_count": 1,
   "metadata": {},
   "outputs": [],
   "source": [
    "import win32com.client as win32\n",
    "import time"
   ]
  },
  {
   "cell_type": "code",
   "execution_count": 7,
   "metadata": {},
   "outputs": [],
   "source": [
    "# --- Configuración ---\n",
    "ruta = r\"C:\\Inventario2\\existenciasvalorizadas_b.xlsx\"\n",
    "nombre_hoja = \"EXISTENCIASVALORIZADAS\"\n",
    "\n",
    "# --- Abre Excel ---\n",
    "excel = win32.DispatchEx(\"Excel.Application\")\n",
    "excel.Visible = False   # ponlo en True si quieres ver Excel trabajando\n",
    "excel.DisplayAlerts = False\n",
    "time.sleep(1)"
   ]
  },
  {
   "cell_type": "code",
   "execution_count": 12,
   "metadata": {},
   "outputs": [
    {
     "ename": "com_error",
     "evalue": "(-2147418111, 'Call was rejected by callee.', None, None)",
     "output_type": "error",
     "traceback": [
      "\u001b[1;31m---------------------------------------------------------------------------\u001b[0m",
      "\u001b[1;31mcom_error\u001b[0m                                 Traceback (most recent call last)",
      "Cell \u001b[1;32mIn[12], line 2\u001b[0m\n\u001b[0;32m      1\u001b[0m \u001b[38;5;66;03m# --- Abre el libro ---\u001b[39;00m\n\u001b[1;32m----> 2\u001b[0m wb \u001b[38;5;241m=\u001b[39m \u001b[43mexcel\u001b[49m\u001b[38;5;241;43m.\u001b[39;49m\u001b[43mWorkbooks\u001b[49m\u001b[38;5;241m.\u001b[39mOpen(ruta)\n\u001b[0;32m      3\u001b[0m ws \u001b[38;5;241m=\u001b[39m wb\u001b[38;5;241m.\u001b[39mWorksheets(nombre_hoja)\n",
      "File \u001b[1;32mc:\\Users\\Pedro Caliman\\AppData\\Local\\Programs\\Python\\Python310\\lib\\site-packages\\win32com\\client\\dynamic.py:627\u001b[0m, in \u001b[0;36mCDispatch.__getattr__\u001b[1;34m(self, attr)\u001b[0m\n\u001b[0;32m    623\u001b[0m debug_attr_print(\n\u001b[0;32m    624\u001b[0m     \u001b[38;5;124m\"\u001b[39m\u001b[38;5;124mGetting property Id 0x\u001b[39m\u001b[38;5;132;01m%x\u001b[39;00m\u001b[38;5;124m from OLE object\u001b[39m\u001b[38;5;124m\"\u001b[39m \u001b[38;5;241m%\u001b[39m retEntry\u001b[38;5;241m.\u001b[39mdispid\n\u001b[0;32m    625\u001b[0m )\n\u001b[0;32m    626\u001b[0m \u001b[38;5;28;01mtry\u001b[39;00m:\n\u001b[1;32m--> 627\u001b[0m     ret \u001b[38;5;241m=\u001b[39m \u001b[38;5;28;43mself\u001b[39;49m\u001b[38;5;241;43m.\u001b[39;49m\u001b[43m_oleobj_\u001b[49m\u001b[38;5;241;43m.\u001b[39;49m\u001b[43mInvoke\u001b[49m\u001b[43m(\u001b[49m\u001b[43mretEntry\u001b[49m\u001b[38;5;241;43m.\u001b[39;49m\u001b[43mdispid\u001b[49m\u001b[43m,\u001b[49m\u001b[43m \u001b[49m\u001b[38;5;241;43m0\u001b[39;49m\u001b[43m,\u001b[49m\u001b[43m \u001b[49m\u001b[43minvoke_type\u001b[49m\u001b[43m,\u001b[49m\u001b[43m \u001b[49m\u001b[38;5;241;43m1\u001b[39;49m\u001b[43m)\u001b[49m\n\u001b[0;32m    628\u001b[0m \u001b[38;5;28;01mexcept\u001b[39;00m pythoncom\u001b[38;5;241m.\u001b[39mcom_error \u001b[38;5;28;01mas\u001b[39;00m details:\n\u001b[0;32m    629\u001b[0m     \u001b[38;5;28;01mif\u001b[39;00m details\u001b[38;5;241m.\u001b[39mhresult \u001b[38;5;129;01min\u001b[39;00m ERRORS_BAD_CONTEXT:\n\u001b[0;32m    630\u001b[0m         \u001b[38;5;66;03m# May be a method.\u001b[39;00m\n",
      "\u001b[1;31mcom_error\u001b[0m: (-2147418111, 'Call was rejected by callee.', None, None)"
     ]
    }
   ],
   "source": [
    "# --- Abre el libro ---\n",
    "wb = excel.Workbooks.Open(ruta)\n",
    "ws = wb.Worksheets(nombre_hoja)\n",
    "\n",
    "\n"
   ]
  },
  {
   "cell_type": "code",
   "execution_count": null,
   "metadata": {},
   "outputs": [],
   "source": [
    "# --- Crea PivotCache desde rango ---\n",
    "pc = wb.PivotCaches().Create(SourceType=1, SourceData=f\"{nombre_hoja}!A1:J1081\")"
   ]
  },
  {
   "cell_type": "code",
   "execution_count": null,
   "metadata": {},
   "outputs": [],
   "source": [
    "# --- Inserta PivotTable en L1 ---\n",
    "pt = pc.CreatePivotTable(TableDestination=f\"{nombre_hoja}!L1\", TableName=\"TablaPivot\")"
   ]
  },
  {
   "cell_type": "code",
   "execution_count": null,
   "metadata": {},
   "outputs": [],
   "source": [
    "pt.PivotFields(\"Categoria\").Orientation = 1   # 1 = xlRowField\n"
   ]
  },
  {
   "cell_type": "code",
   "execution_count": null,
   "metadata": {},
   "outputs": [],
   "source": [
    "pt.PivotFields(\"Stock\").Orientation = 4       # 4 = xlDataField"
   ]
  },
  {
   "cell_type": "code",
   "execution_count": 11,
   "metadata": {},
   "outputs": [
    {
     "ename": "com_error",
     "evalue": "(-2147418111, 'Call was rejected by callee.', None, None)",
     "output_type": "error",
     "traceback": [
      "\u001b[1;31m---------------------------------------------------------------------------\u001b[0m",
      "\u001b[1;31mcom_error\u001b[0m                                 Traceback (most recent call last)",
      "Cell \u001b[1;32mIn[11], line 4\u001b[0m\n\u001b[0;32m      1\u001b[0m \u001b[38;5;66;03m# --- Guardar y cerrar ---\u001b[39;00m\n\u001b[0;32m      2\u001b[0m \u001b[38;5;66;03m#wb.SaveAs(r\"C:\\Inventario2\\existenciasvalorizadas_c_conPivot.xlsx\")\u001b[39;00m\n\u001b[0;32m      3\u001b[0m \u001b[38;5;66;03m#wb.Close()\u001b[39;00m\n\u001b[1;32m----> 4\u001b[0m \u001b[43mexcel\u001b[49m\u001b[38;5;241;43m.\u001b[39;49m\u001b[43mQuit\u001b[49m\u001b[43m(\u001b[49m\u001b[43m)\u001b[49m\n",
      "File \u001b[1;32m<COMObject Excel.Application>:2\u001b[0m, in \u001b[0;36mQuit\u001b[1;34m(self)\u001b[0m\n",
      "\u001b[1;31mcom_error\u001b[0m: (-2147418111, 'Call was rejected by callee.', None, None)"
     ]
    }
   ],
   "source": [
    "# --- Guardar y cerrar ---\n",
    "#wb.SaveAs(r\"C:\\Inventario2\\existenciasvalorizadas_c_conPivot.xlsx\")\n",
    "#wb.Close()\n",
    "excel.Quit()"
   ]
  },
  {
   "cell_type": "code",
   "execution_count": null,
   "metadata": {},
   "outputs": [],
   "source": []
  },
  {
   "cell_type": "code",
   "execution_count": null,
   "metadata": {},
   "outputs": [],
   "source": []
  }
 ],
 "metadata": {
  "kernelspec": {
   "display_name": "Python 3",
   "language": "python",
   "name": "python3"
  },
  "language_info": {
   "codemirror_mode": {
    "name": "ipython",
    "version": 3
   },
   "file_extension": ".py",
   "mimetype": "text/x-python",
   "name": "python",
   "nbconvert_exporter": "python",
   "pygments_lexer": "ipython3",
   "version": "3.10.2"
  }
 },
 "nbformat": 4,
 "nbformat_minor": 2
}
