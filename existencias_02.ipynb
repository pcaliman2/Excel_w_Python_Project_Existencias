import win32com.client as win32
import time

# --- Configuración ---
ruta = r"C:\Inventario2\existenciasvalorizadas_c.xlsx"
nombre_hoja = "EXISTENCIASVALORIZADAS"

# --- Abre Excel ---
excel = win32.DispatchEx("Excel.Application")
excel.Visible = True    # ponlo en True si quieres ver Excel trabajando
excel.DisplayAlerts = False
time.sleep(1)

# --- Abre el libro ---
wb = excel.Workbooks.Open(ruta)
ws = wb.Worksheets(nombre_hoja)

# --- Crea PivotCache desde rango ---
pc = wb.PivotCaches().Create(SourceType=1, SourceData=f"{nombre_hoja}!A1:J1081")

# --- Inserta PivotTable en L1 ---
pt = pc.CreatePivotTable(TableDestination=f"{nombre_hoja}!L1", TableName="TablaPivot")

# --- Configura campos de la tabla dinámica ---
# Ejemplo: Categoría como filas, Stock como valores
pt.PivotFields("Categoria").Orientation = 1   # 1 = xlRowField
pt.PivotFields("Stock").Orientation = 4       # 4 = xlDataField

# --- Guardar y cerrar ---
wb.SaveAs(r"C:\Inventario2\existenciasvalorizadas_c_conPivot.xlsx")
wb.Close()
excel.Quit()
