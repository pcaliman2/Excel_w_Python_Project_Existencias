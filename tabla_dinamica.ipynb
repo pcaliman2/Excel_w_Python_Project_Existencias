{
 "cells": [
  {
   "cell_type": "code",
   "execution_count": 6,
   "metadata": {},
   "outputs": [],
   "source": [
    "from openpyxl import load_workbook\n",
    "import win32com.client as win32\n",
    "from openpyxl.utils import get_column_letter   # solo para convertir números a letras\n",
    "import time   # 👈 te faltaba esto"
   ]
  },
  {
   "cell_type": "code",
   "execution_count": 12,
   "metadata": {},
   "outputs": [],
   "source": [
    "# --- Configura tu archivo ---\n",
    "ruta = r\"C:\\Inventario2\\existenciasvalorizadas_c.xlsx\"\n",
    "nombre_hoja = \"EXISTENCIASVALORIZADAS\""
   ]
  },
  {
   "cell_type": "code",
   "execution_count": 14,
   "metadata": {},
   "outputs": [],
   "source": [
    "# --- Abre Excel en segundo plano ---\n",
    "excel = win32.DispatchEx(\"Excel.Application\")\n",
    "excel.Visible = False\n",
    "excel.DisplayAlerts = False\n",
    "time.sleep(1)  # espera 1 segundo para que Excel inicialice"
   ]
  },
  {
   "cell_type": "code",
   "execution_count": 18,
   "metadata": {},
   "outputs": [
    {
     "name": "stdout",
     "output_type": "stream",
     "text": [
      "Reintento 1 por error: (-2147418111, 'Call was rejected by callee.', None, None)\n",
      "Reintento 2 por error: (-2147418111, 'Call was rejected by callee.', None, None)\n",
      "Reintento 3 por error: (-2147418111, 'Call was rejected by callee.', None, None)\n"
     ]
    }
   ],
   "source": [
    "\n",
    "for i in range(3):   # intenta 3 veces\n",
    "    try:\n",
    "        wb = excel.Workbooks.Open(ruta)\n",
    "        break\n",
    "    except Exception as e:\n",
    "        print(f\"Reintento {i+1} por error: {e}\")\n",
    "        time.sleep(2)"
   ]
  },
  {
   "cell_type": "code",
   "execution_count": null,
   "metadata": {},
   "outputs": [],
   "source": [
    "ws = wb.Worksheets(nombre_hoja)"
   ]
  },
  {
   "cell_type": "code",
   "execution_count": null,
   "metadata": {},
   "outputs": [],
   "source": [
    "pc = wb.PivotCaches().Create(SourceType=1, SourceData=\"EXISTENCIASVALORIZADAS!A1:J1081\")\n",
    "\n"
   ]
  },
  {
   "cell_type": "code",
   "execution_count": null,
   "metadata": {},
   "outputs": [],
   "source": [
    "pt = pc.CreatePivotTable(TableDestination=\"EXISTENCIASVALORIZADAS!L1\", TableName=\"TablaPivot\")"
   ]
  },
  {
   "cell_type": "code",
   "execution_count": 22,
   "metadata": {},
   "outputs": [
    {
     "ename": "com_error",
     "evalue": "(-2147418111, 'Call was rejected by callee.', None, None)",
     "output_type": "error",
     "traceback": [
      "\u001b[1;31m---------------------------------------------------------------------------\u001b[0m",
      "\u001b[1;31mcom_error\u001b[0m                                 Traceback (most recent call last)",
      "Cell \u001b[1;32mIn[22], line 4\u001b[0m\n\u001b[0;32m      1\u001b[0m \u001b[38;5;66;03m# ===== 4) Guardar y cerrar =====\u001b[39;00m\n\u001b[0;32m      2\u001b[0m \u001b[38;5;66;03m#wb.Save()\u001b[39;00m\n\u001b[0;32m      3\u001b[0m \u001b[38;5;66;03m#wb.Close()\u001b[39;00m\n\u001b[1;32m----> 4\u001b[0m \u001b[43mexcel\u001b[49m\u001b[38;5;241;43m.\u001b[39;49m\u001b[43mQuit\u001b[49m\u001b[43m(\u001b[49m\u001b[43m)\u001b[49m\n",
      "File \u001b[1;32m<COMObject Excel.Application>:2\u001b[0m, in \u001b[0;36mQuit\u001b[1;34m(self)\u001b[0m\n",
      "\u001b[1;31mcom_error\u001b[0m: (-2147418111, 'Call was rejected by callee.', None, None)"
     ]
    }
   ],
   "source": [
    "# ===== 4) Guardar y cerrar =====\n",
    "#wb.Save()\n",
    "#wb.Close()\n",
    "excel.Quit()"
   ]
  }
 ],
 "metadata": {
  "kernelspec": {
   "display_name": "Python 3",
   "language": "python",
   "name": "python3"
  },
  "language_info": {
   "codemirror_mode": {
    "name": "ipython",
    "version": 3
   },
   "file_extension": ".py",
   "mimetype": "text/x-python",
   "name": "python",
   "nbconvert_exporter": "python",
   "pygments_lexer": "ipython3",
   "version": "3.10.2"
  }
 },
 "nbformat": 4,
 "nbformat_minor": 2
}
